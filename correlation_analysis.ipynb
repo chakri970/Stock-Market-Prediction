{
  "cells": [
    {
      "cell_type": "markdown",
      "metadata": {
        "id": "view-in-github",
        "colab_type": "text"
      },
      "source": [
        "<a href=\"https://colab.research.google.com/github/chakri970/Stock-Market-Prediction/blob/main/correlation_analysis.ipynb\" target=\"_parent\"><img src=\"https://colab.research.google.com/assets/colab-badge.svg\" alt=\"Open In Colab\"/></a>"
      ]
    },
    {
      "cell_type": "code",
      "execution_count": null,
      "metadata": {
        "id": "IGNjngS0ISVw"
      },
      "outputs": [],
      "source": [
        "import pandas as pd\n",
        "import matplotlib.pyplot as plt\n",
        "import seaborn as sns\n",
        "\n",
        "\n",
        "import numpy as np\n",
        "from textblob import TextBlob\n",
        "from newsapi import NewsApiClient\n",
        "from sklearn.ensemble import RandomForestRegressor\n",
        "from sklearn.model_selection import train_test_split\n",
        "from sklearn.preprocessing import MinMaxScaler\n",
        "from keras.models import Sequential\n",
        "from keras.layers import LSTM, Dense\n",
        "\n"
      ]
    },
    {
      "cell_type": "code",
      "source": [
        "from google.colab import drive\n",
        "drive.mount('/content/drive')"
      ],
      "metadata": {
        "colab": {
          "base_uri": "https://localhost:8080/"
        },
        "id": "_pci0Ds_bpdz",
        "outputId": "031364b9-bc77-488b-fbc1-e2b512c1a950"
      },
      "execution_count": null,
      "outputs": [
        {
          "output_type": "stream",
          "name": "stdout",
          "text": [
            "Drive already mounted at /content/drive; to attempt to forcibly remount, call drive.mount(\"/content/drive\", force_remount=True).\n"
          ]
        }
      ]
    },
    {
      "cell_type": "code",
      "source": [
        "!pip install newsapi-python textblob --quiet\n",
        "!python -m textblob.download_corpora"
      ],
      "metadata": {
        "colab": {
          "base_uri": "https://localhost:8080/"
        },
        "id": "FkQw-fpgMh8e",
        "outputId": "10e5f86c-2894-407c-865e-d50712a47fc7"
      },
      "execution_count": null,
      "outputs": [
        {
          "output_type": "stream",
          "name": "stdout",
          "text": [
            "[nltk_data] Downloading package brown to /root/nltk_data...\n",
            "[nltk_data]   Package brown is already up-to-date!\n",
            "[nltk_data] Downloading package punkt_tab to /root/nltk_data...\n",
            "[nltk_data]   Package punkt_tab is already up-to-date!\n",
            "[nltk_data] Downloading package wordnet to /root/nltk_data...\n",
            "[nltk_data]   Package wordnet is already up-to-date!\n",
            "[nltk_data] Downloading package averaged_perceptron_tagger_eng to\n",
            "[nltk_data]     /root/nltk_data...\n",
            "[nltk_data]   Package averaged_perceptron_tagger_eng is already up-to-\n",
            "[nltk_data]       date!\n",
            "[nltk_data] Downloading package conll2000 to /root/nltk_data...\n",
            "[nltk_data]   Package conll2000 is already up-to-date!\n",
            "[nltk_data] Downloading package movie_reviews to /root/nltk_data...\n",
            "[nltk_data]   Package movie_reviews is already up-to-date!\n",
            "Finished.\n"
          ]
        }
      ]
    },
    {
      "cell_type": "code",
      "source": [
        "\n",
        "\n",
        "\n",
        "\n",
        "\n",
        "\n",
        "df_all = pd.read_csv(\"/content/drive/MyDrive/Colab Notebooks/mine/all_stocks_5yr.csv\")\n",
        "df_all['date'] = pd.to_datetime(df_all['date'])\n",
        "\n",
        "\n",
        "newsapi = NewsApiClient(api_key='d69212dcd785498ca73674d72b617c2f')\n",
        "\n",
        "\n",
        "selected_companies = ['AAPL', 'AMZN', 'GOOG', 'MSFT', 'TSLA']\n",
        "\n",
        "\n",
        "def get_sentiment_score(company):\n",
        "    try:\n",
        "        news = newsapi.get_everything(q=company, language='en', sort_by='relevancy', page_size=10)\n",
        "        headlines = [article['title'] for article in news['articles']]\n",
        "        scores = [TextBlob(h).sentiment.polarity for h in headlines]\n",
        "        return round(np.mean(scores), 3) if scores else 0.0\n",
        "    except:\n",
        "        return 0.0\n",
        "\n",
        "results = {'Company': [], 'RFR': [], 'LSTM': [], 'SA': [], 'Actual Close': []}\n",
        "\n",
        "for company in selected_companies:\n",
        "    df_company = df_all[df_all['Name'] == company].sort_values('date')\n",
        "\n",
        "    if len(df_company) < 100:\n",
        "        continue\n",
        "\n",
        "\n",
        "    actual_close = df_company['close'].iloc[-1]\n",
        "\n",
        "\n",
        "    rfr_df = df_company[['open', 'high', 'low', 'volume', 'close']]\n",
        "    X = rfr_df.drop('close', axis=1)\n",
        "    y = rfr_df['close']\n",
        "    X_train, X_test, y_train, y_test = train_test_split(X, y, test_size=0.2, shuffle=False)\n",
        "\n",
        "    rfr_model = RandomForestRegressor(n_estimators=50, random_state=42)\n",
        "    rfr_model.fit(X_train, y_train)\n",
        "    rfr_pred = rfr_model.predict([X_test.iloc[-1]])[0]\n",
        "\n",
        "    # --- LSTM Prediction ---\n",
        "    close_prices = df_company['close'].values.reshape(-1, 1)\n",
        "    scaler = MinMaxScaler()\n",
        "    scaled_close = scaler.fit_transform(close_prices)\n",
        "\n",
        "    lookback = 60\n",
        "    if len(scaled_close) <= lookback:\n",
        "        continue\n",
        "\n",
        "    X_lstm, y_lstm = [], []\n",
        "    for i in range(lookback, len(scaled_close)):\n",
        "        X_lstm.append(scaled_close[i-lookback:i, 0])\n",
        "        y_lstm.append(scaled_close[i, 0])\n",
        "    X_lstm = np.array(X_lstm)\n",
        "    y_lstm = np.array(y_lstm)\n",
        "    X_lstm = X_lstm.reshape((X_lstm.shape[0], X_lstm.shape[1], 1))\n",
        "\n",
        "    lstm_model = Sequential()\n",
        "    lstm_model.add(LSTM(50, return_sequences=True, input_shape=(X_lstm.shape[1], 1)))\n",
        "    lstm_model.add(LSTM(50))\n",
        "    lstm_model.add(Dense(1))\n",
        "    lstm_model.compile(optimizer='adam', loss='mean_squared_error')\n",
        "    lstm_model.fit(X_lstm, y_lstm, epochs=3, batch_size=32, verbose=0)\n",
        "\n",
        "    lstm_input = scaled_close[-lookback:].reshape(1, lookback, 1)\n",
        "    lstm_scaled_pred = lstm_model.predict(lstm_input)\n",
        "    lstm_pred = scaler.inverse_transform(lstm_scaled_pred)[0][0]\n",
        "\n",
        "    # --- Sentiment Analysis ---\n",
        "    sa_score = get_sentiment_score(company)\n",
        "\n",
        "    # --- Store Results ---\n",
        "    results['Company'].append(company)\n",
        "    results['RFR'].append(round(rfr_pred, 2))\n",
        "    results['LSTM'].append(round(lstm_pred, 2))\n",
        "    results['SA'].append(round(sa_score, 3))\n",
        "    results['Actual Close'].append(round(actual_close, 2))\n",
        "\n",
        "    print(f\"{company} ➜ RFR: {rfr_pred:.2f}, LSTM: {lstm_pred:.2f}, SA: {sa_score:.3f}\")\n",
        "\n",
        "# Final DataFrame\n",
        "df_results = pd.DataFrame(results)\n",
        "print(df_results)\n",
        "\n",
        "\n"
      ],
      "metadata": {
        "colab": {
          "base_uri": "https://localhost:8080/"
        },
        "id": "uc8n2n8YIBpp",
        "outputId": "6ab3c3a3-1b25-4aac-f1e2-71573384e3c0"
      },
      "execution_count": null,
      "outputs": [
        {
          "output_type": "stream",
          "name": "stdout",
          "text": [
            "\u001b[1m1/1\u001b[0m \u001b[32m━━━━━━━━━━━━━━━━━━━━\u001b[0m\u001b[37m\u001b[0m \u001b[1m1s\u001b[0m 809ms/step\n",
            "AAPL ➜ RFR: 132.20, LSTM: 169.86, SA: -0.015\n",
            "\u001b[1m1/1\u001b[0m \u001b[32m━━━━━━━━━━━━━━━━━━━━\u001b[0m\u001b[37m\u001b[0m \u001b[1m0s\u001b[0m 476ms/step\n",
            "AMZN ➜ RFR: 841.27, LSTM: 1423.09, SA: 0.209\n",
            "\u001b[1m1/1\u001b[0m \u001b[32m━━━━━━━━━━━━━━━━━━━━\u001b[0m\u001b[37m\u001b[0m \u001b[1m0s\u001b[0m 403ms/step\n",
            "GOOG ➜ RFR: 897.58, LSTM: 1142.75, SA: 0.040\n",
            "\u001b[1m1/1\u001b[0m \u001b[32m━━━━━━━━━━━━━━━━━━━━\u001b[0m\u001b[37m\u001b[0m \u001b[1m0s\u001b[0m 376ms/step\n",
            "MSFT ➜ RFR: 65.22, LSTM: 92.61, SA: 0.058\n",
            "  Company     RFR         LSTM     SA  Actual Close\n",
            "0    AAPL  132.20   169.860001 -0.015        159.54\n",
            "1    AMZN  841.27  1423.089966  0.209       1416.78\n",
            "2    GOOG  897.58  1142.750000  0.040       1048.58\n",
            "3    MSFT   65.22    92.610001  0.058         89.61\n"
          ]
        }
      ]
    },
    {
      "cell_type": "code",
      "source": [
        "sns.scatterplot(x='RFR', y='Actual Close', data=df)\n",
        "plt.show()\n",
        "\n",
        "sns.scatterplot(x='LSTM', y='Actual Close', data=df)\n",
        "plt.show()\n",
        "\n",
        "sns.scatterplot(x='SA', y='Actual Close', data=df)\n",
        "plt.show()"
      ],
      "metadata": {
        "colab": {
          "base_uri": "https://localhost:8080/",
          "height": 1313
        },
        "id": "si_pSSUrMC03",
        "outputId": "eb1017af-93bd-454b-daa5-8a632933a3e2"
      },
      "execution_count": null,
      "outputs": [
        {
          "output_type": "display_data",
          "data": {
            "text/plain": [
              "<Figure size 640x480 with 1 Axes>"
            ],
            "image/png": "[encoded data removed]"
          },
          "metadata": {}
        },
        {
          "output_type": "display_data",
          "data": {
            "text/plain": [
              "<Figure size 640x480 with 1 Axes>"
            ],
            "image/png": "[encoded data removed]"
          },
          "metadata": {}
        },
        {
          "output_type": "display_data",
          "data": {
            "text/plain": [
              "<Figure size 640x480 with 1 Axes>"
            ],
            "image/png": "[encoded data removed]"
          },
          "metadata": {}
        }
      ]
    },
    {
      "cell_type": "code",
      "source": [
        "rfr_correlation = df['RFR'].corr(df['Actual Close'])\n",
        "print(\"The correlation between RFR and Actual Close is:\", rfr_correlation)\n",
        "\n",
        "lstm_correlation = df['LSTM'].corr(df['Actual Close'])\n",
        "print(\"The correlation between LSTM and Actual Close is:\", lstm_correlation)\n",
        "\n",
        "sa_correlation = df['SA'].corr(df['Actual Close'])\n",
        "print(\"The correlation between SA and Actual Close is:\", sa_correlation)"
      ],
      "metadata": {
        "colab": {
          "base_uri": "https://localhost:8080/"
        },
        "id": "QC5Lf5r0MIiR",
        "outputId": "db03426f-6987-4c1d-8da2-e8fdc7e78805"
      },
      "execution_count": null,
      "outputs": [
        {
          "output_type": "stream",
          "name": "stdout",
          "text": [
            "The correlation between RFR and Actual Close is: 0.9694748204715025\n",
            "The correlation between LSTM and Actual Close is: 0.5349455238356787\n",
            "The correlation between SA and Actual Close is: -0.34401024520175844\n"
          ]
        }
      ]
    }
  ],
  "metadata": {
    "kernelspec": {
      "display_name": "Python 3",
      "name": "python3"
    },
    "language_info": {
      "codemirror_mode": {
        "name": "ipython",
        "version": 3
      },
      "file_extension": ".py",
      "mimetype": "text/x-python",
      "name": "python",
      "nbconvert_exporter": "python",
      "pygments_lexer": "ipython3",
      "version": "3.11.4"
    },
    "orig_nbformat": 4,
    "vscode": {
      "interpreter": {
        "hash": "553938beef47038dfb95f51e64d059a1195c8ba1d56a7d809f7c9076f321f3c1"
      }
    },
    "colab": {
      "provenance": [],
      "gpuType": "T4",
      "include_colab_link": true
    },
    "accelerator": "GPU"
  },
  "nbformat": 4,
  "nbformat_minor": 0
}